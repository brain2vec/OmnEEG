{
 "cells": [
  {
   "cell_type": "code",
   "execution_count": 3,
   "id": "8db0ca94-5205-425d-b8c7-0388eafd2da2",
   "metadata": {},
   "outputs": [],
   "source": [
    "# Import core libraries\n",
    "import time\n",
    "import os\n",
    "import itertools\n",
    "from datetime import datetime\n",
    "from scipy import signal\n",
    "import copy\n",
    "from mne.io.pick import pick_types\n",
    "\n",
    "# Import scientic Python librairies\n",
    "import pandas as pd\n",
    "import numpy as np\n",
    "\n",
    "# Import MNE ecosystem\n",
    "import mne\n",
    "#from mne.io.meas_info import create_info\n",
    "from mne.epochs import BaseEpochs\n",
    "from mne.channels import make_standard_montage\n",
    "# from mne.time_frequency import psd_welch\n",
    "\n",
    "# Import custom functions\n",
    "#import torch\n",
    "#from torch.nn import CrossEntropyLoss\n",
    "#from torch.optim import Adam\n",
    "#from sklearn.model_selection import train_test_split\n",
    "import glob\n",
    "import os\n",
    "import mne\n",
    "import numpy as np\n",
    "import matplotlib.pyplot as plt\n",
    "\n",
    "#from model_omneeg import SleepStagerChambon2018\n",
    "from torch import nn\n",
    "import csv\n",
    "import json\n",
    "mne.set_log_level('ERROR')\n",
    "\n",
    "# Read the demographic data of all the cohorts\n",
    "#demo_HBN = pd.read_csv('/home/dubadr/projects/rrg-gdumas85/dubadr/data/hbn_demo_all.csv')\n",
    "#demo_HBN = pd.read_csv('/Users/dub/PPSP/data/HBN/hbn_demo_ctr_small.csv')\n",
    "#demo_HBN = pd.read_csv('/Users/dubadr/Downloads/brain2vec/Classification/hbn_demo_ctr_small.csv')\n",
    "#basefolder_HBN = \"/Users/dub/PPSP/data/HBN/PREPROCESSED\"\n"
   ]
  },
  {
   "cell_type": "code",
   "execution_count": 4,
   "id": "3f56e9eb-3119-4f83-8b29-5e8d66bad341",
   "metadata": {},
   "outputs": [
    {
     "ename": "NameError",
     "evalue": "name 'demo_HBN' is not defined",
     "output_type": "error",
     "traceback": [
      "\u001b[0;31m---------------------------------------------------------------------------\u001b[0m",
      "\u001b[0;31mNameError\u001b[0m                                 Traceback (most recent call last)",
      "Cell \u001b[0;32mIn[4], line 4\u001b[0m\n\u001b[1;32m      1\u001b[0m basefolder_HBN \u001b[38;5;241m=\u001b[39m \u001b[38;5;124m\"\u001b[39m\u001b[38;5;124m/home/dubadr/scratch/2seconds/HBN/process\u001b[39m\u001b[38;5;124m\"\u001b[39m\n\u001b[1;32m      3\u001b[0m \u001b[38;5;66;03m# List all the participants with EEG preprocessed data\u001b[39;00m\n\u001b[0;32m----> 4\u001b[0m participants_HBN \u001b[38;5;241m=\u001b[39m \u001b[38;5;28msorted\u001b[39m(\u001b[38;5;28mlist\u001b[39m(\u001b[38;5;28mset\u001b[39m([f \u001b[38;5;28;01mfor\u001b[39;00m f \u001b[38;5;129;01min\u001b[39;00m os\u001b[38;5;241m.\u001b[39mlistdir(basefolder_HBN) \u001b[38;5;28;01mif\u001b[39;00m os\u001b[38;5;241m.\u001b[39mpath\u001b[38;5;241m.\u001b[39misdir(os\u001b[38;5;241m.\u001b[39mpath\u001b[38;5;241m.\u001b[39mjoin(basefolder_HBN, f))])\u001b[38;5;241m.\u001b[39mintersection(\u001b[38;5;28mset\u001b[39m(\u001b[43mdemo_HBN\u001b[49m[\u001b[38;5;124m'\u001b[39m\u001b[38;5;124mid\u001b[39m\u001b[38;5;124m'\u001b[39m]\u001b[38;5;241m.\u001b[39mtolist()))))\n\u001b[1;32m      6\u001b[0m \u001b[38;5;66;03m# List of all EEG channel names\u001b[39;00m\n\u001b[1;32m      7\u001b[0m bad_chs \u001b[38;5;241m=\u001b[39m [\u001b[38;5;124m'\u001b[39m\u001b[38;5;124mE1\u001b[39m\u001b[38;5;124m'\u001b[39m, \u001b[38;5;124m'\u001b[39m\u001b[38;5;124mE14\u001b[39m\u001b[38;5;124m'\u001b[39m, \u001b[38;5;124m'\u001b[39m\u001b[38;5;124mE17\u001b[39m\u001b[38;5;124m'\u001b[39m, \u001b[38;5;124m'\u001b[39m\u001b[38;5;124mE21\u001b[39m\u001b[38;5;124m'\u001b[39m, \u001b[38;5;124m'\u001b[39m\u001b[38;5;124mE32\u001b[39m\u001b[38;5;124m'\u001b[39m, \u001b[38;5;124m'\u001b[39m\u001b[38;5;124mE38\u001b[39m\u001b[38;5;124m'\u001b[39m, \u001b[38;5;124m'\u001b[39m\u001b[38;5;124mE43\u001b[39m\u001b[38;5;124m'\u001b[39m, \u001b[38;5;124m'\u001b[39m\u001b[38;5;124mE44\u001b[39m\u001b[38;5;124m'\u001b[39m, \u001b[38;5;124m'\u001b[39m\u001b[38;5;124mE48\u001b[39m\u001b[38;5;124m'\u001b[39m, \u001b[38;5;124m'\u001b[39m\u001b[38;5;124mE49\u001b[39m\u001b[38;5;124m'\u001b[39m, \u001b[38;5;124m'\u001b[39m\u001b[38;5;124mE56\u001b[39m\u001b[38;5;124m'\u001b[39m,\n\u001b[1;32m      8\u001b[0m            \u001b[38;5;124m'\u001b[39m\u001b[38;5;124mE63\u001b[39m\u001b[38;5;124m'\u001b[39m, \u001b[38;5;124m'\u001b[39m\u001b[38;5;124mE68\u001b[39m\u001b[38;5;124m'\u001b[39m, \u001b[38;5;124m'\u001b[39m\u001b[38;5;124mE73\u001b[39m\u001b[38;5;124m'\u001b[39m, \u001b[38;5;124m'\u001b[39m\u001b[38;5;124mE81\u001b[39m\u001b[38;5;124m'\u001b[39m, \u001b[38;5;124m'\u001b[39m\u001b[38;5;124mE88\u001b[39m\u001b[38;5;124m'\u001b[39m, \u001b[38;5;124m'\u001b[39m\u001b[38;5;124mE94\u001b[39m\u001b[38;5;124m'\u001b[39m, \u001b[38;5;124m'\u001b[39m\u001b[38;5;124mE99\u001b[39m\u001b[38;5;124m'\u001b[39m, \u001b[38;5;124m'\u001b[39m\u001b[38;5;124mE107\u001b[39m\u001b[38;5;124m'\u001b[39m, \u001b[38;5;124m'\u001b[39m\u001b[38;5;124mE113\u001b[39m\u001b[38;5;124m'\u001b[39m, \u001b[38;5;124m'\u001b[39m\u001b[38;5;124mE114\u001b[39m\u001b[38;5;124m'\u001b[39m, \u001b[38;5;124m'\u001b[39m\u001b[38;5;124mE119\u001b[39m\u001b[38;5;124m'\u001b[39m,\n\u001b[1;32m      9\u001b[0m            \u001b[38;5;124m'\u001b[39m\u001b[38;5;124mE120\u001b[39m\u001b[38;5;124m'\u001b[39m, \u001b[38;5;124m'\u001b[39m\u001b[38;5;124mE121\u001b[39m\u001b[38;5;124m'\u001b[39m, \u001b[38;5;124m'\u001b[39m\u001b[38;5;124mE125\u001b[39m\u001b[38;5;124m'\u001b[39m, \u001b[38;5;124m'\u001b[39m\u001b[38;5;124mE126\u001b[39m\u001b[38;5;124m'\u001b[39m, \u001b[38;5;124m'\u001b[39m\u001b[38;5;124mE127\u001b[39m\u001b[38;5;124m'\u001b[39m, \u001b[38;5;124m'\u001b[39m\u001b[38;5;124mE128\u001b[39m\u001b[38;5;124m'\u001b[39m]\n",
      "\u001b[0;31mNameError\u001b[0m: name 'demo_HBN' is not defined"
     ]
    }
   ],
   "source": [
    "basefolder_HBN = \"/home/dubadr/scratch/2seconds/HBN/process\"\n",
    "\n",
    "# List all the participants with EEG preprocessed data\n",
    "participants_HBN = sorted(list(set([f for f in os.listdir(basefolder_HBN) if os.path.isdir(os.path.join(basefolder_HBN, f))]).intersection(set(demo_HBN['id'].tolist()))))\n",
    "\n",
    "# List of all EEG channel names\n",
    "bad_chs = ['E1', 'E14', 'E17', 'E21', 'E32', 'E38', 'E43', 'E44', 'E48', 'E49', 'E56',\n",
    "           'E63', 'E68', 'E73', 'E81', 'E88', 'E94', 'E99', 'E107', 'E113', 'E114', 'E119',\n",
    "           'E120', 'E121', 'E125', 'E126', 'E127', 'E128']\n",
    "eeg_chs = []\n",
    "for n in range(1, 129):\n",
    "    eeg_chs.append('E' + str(n))\n",
    "eeg_chs = [ch for ch in eeg_chs if ch not in bad_chs]\n",
    "\n",
    "# List bad HBN participants with no Eyes-open resting state\n",
    "bad_participants_HBN = []"
   ]
  },
  {
   "cell_type": "code",
   "execution_count": 6,
   "id": "0f82add5-c349-4e55-9fd0-15aa1ad7fade",
   "metadata": {},
   "outputs": [
    {
     "name": "stdout",
     "output_type": "stream",
     "text": [
      "/lustre06/project/6057506/dubadr/OmnEEG/omneeg\n"
     ]
    }
   ],
   "source": [
    "cd /home/dubadr/projects/def-gdumas85/dubadr/OmnEEG/omneeg\n"
   ]
  },
  {
   "cell_type": "code",
   "execution_count": 17,
   "id": "76ea0f3c-0496-4940-a31d-03a865648695",
   "metadata": {},
   "outputs": [
    {
     "data": {
      "text/plain": [
       "<matplotlib.colorbar.Colorbar at 0x145dbbeda1d0>"
      ]
     },
     "execution_count": 17,
     "metadata": {},
     "output_type": "execute_result"
    },
    {
     "data": {
      "image/png": "[encoded data removed]",
      "text/plain": [
       "<Figure size 640x480 with 2 Axes>"
      ]
     },
     "metadata": {},
     "output_type": "display_data"
    }
   ],
   "source": [
    "plt.imshow(data_temp[10,:,:,150]*1000000)\n",
    "plt.colorbar()"
   ]
  },
  {
   "cell_type": "code",
   "execution_count": 5,
   "id": "0299948e-c8fd-44de-9052-2f23eb178275",
   "metadata": {},
   "outputs": [],
   "source": [
    "import mne\n",
    "from mne.channels.layout import _find_topomap_coords\n",
    "from mne.viz.topomap import _adjust_meg_sphere, _GridData\n",
    "import numpy as np\n",
    "\n",
    "\n",
    "class Interpolate(object):\n",
    "# TODO - Move on to Python3 and get rid of object inheritence\n",
    "    \"\"\"Interpolate a EEG to a matrix of pixels.\n",
    "\n",
    "    Args:\n",
    "        output_size (tuple or int): Desired output size. If tuple, output is\n",
    "            matched to output_size. If int, smaller of image edges is matched\n",
    "            to output_size keeping aspect ratio the same.\n",
    "    \"\"\"\n",
    "\n",
    "    def __init__(self, output_size):\n",
    "        assert isinstance(output_size, (int, tuple))\n",
    "        self.output_size = output_size\n",
    "\n",
    "    def __call__(self, eeg):\n",
    "        # Check if eeg is an MNE epochs object or array-like data\n",
    "        if hasattr(eeg, 'info'):\n",
    "            # It's an MNE object with info attribute\n",
    "            info = eeg.info\n",
    "            data = eeg.get_data()\n",
    "            \n",
    "            # For Raw objects, reshape to epochs format (trials, channels, times)\n",
    "            if isinstance(eeg, mne.io.Raw):\n",
    "                data = data.reshape(1, data.shape[0], data.shape[1])  # add trial dimension\n",
    "        else:\n",
    "            # Assume it's a slice of epochs from an MNE object\n",
    "            # This is a workaround for the error\n",
    "            raise TypeError(\"Expected an MNE object with 'info' attribute. Please modify the io.py code.\")\n",
    "            \n",
    "        try:\n",
    "            # Try to use the standard approach first\n",
    "            sphere, clip_origin = _adjust_meg_sphere(sphere=None, info=info, ch_type='eeg')\n",
    "            x, y, _, radius = sphere\n",
    "            # Use the public API function directly from mne\n",
    "            picks = mne.pick_types(info, meg=False, eeg=True, ref_meg=False, exclude='bads')\n",
    "            pos = _find_topomap_coords(info, picks, sphere=sphere)\n",
    "        except RuntimeError as e:\n",
    "            if \"No digitization points found\" in str(e):\n",
    "                # Fallback: create artificial positions in a circle formation\n",
    "                print(\"No electrode positions found, creating artificial positions\")\n",
    "                \n",
    "                # Get number of EEG channels\n",
    "                n_channels = len(picks)\n",
    "                \n",
    "                # Create artificial positions in a circular pattern\n",
    "                radius = 0.85  # slightly smaller than unit circle for better visualization\n",
    "                angles = np.linspace(0, 2*np.pi, n_channels, endpoint=False)\n",
    "                x_pos = radius * np.cos(angles)\n",
    "                y_pos = radius * np.sin(angles)\n",
    "                \n",
    "                # Create positions for all channels\n",
    "                pos = np.column_stack([x_pos, y_pos])\n",
    "                \n",
    "                # Set default sphere and clip_origin for visualization\n",
    "                sphere = (0, 0, 0, 1)  # x, y, z, radius\n",
    "                clip_origin = (0, 0)\n",
    "            else:\n",
    "                # Re-raise other errors\n",
    "                raise\n",
    "            \n",
    "        # Check the dimensions of data\n",
    "        if not isinstance(data, np.ndarray):\n",
    "            raise TypeError(\"Data must be a numpy array\")\n",
    "            \n",
    "        # Ensure data has the right dimensions (epochs, channels, times)\n",
    "        if len(data.shape) == 2:  # (channels, times)\n",
    "            data = data.reshape(1, data.shape[0], data.shape[1])  # add epochs dimension\n",
    "        elif len(data.shape) != 3:\n",
    "            raise ValueError(f\"Expected 2D or 3D data array, got shape {data.shape}\")\n",
    "            \n",
    "        mask_scale = max(1.0, np.linalg.norm(pos, axis=1).max() * 1.01 / radius)\n",
    "        clip_radius = (radius * mask_scale,)*2\n",
    "        res = self.output_size\n",
    "        image_interp = 'cubic'\n",
    "        xmin, xmax = clip_origin[0] - clip_radius[0], clip_origin[0] + clip_radius[0]\n",
    "        ymin, ymax = clip_origin[1] - clip_radius[1], clip_origin[1] + clip_radius[1]\n",
    "        xi = np.linspace(xmin, xmax, res[0])\n",
    "        yi = np.linspace(ymin, ymax, res[1])\n",
    "        Xi, Yi = np.meshgrid(xi, yi)\n",
    "        extrapolate = 'box'\n",
    "        border = 'mean'\n",
    "        interp = _GridData(pos, image_interp, extrapolate,\n",
    "                          clip_origin, clip_radius, border)\n",
    "                          \n",
    "        print(f\"Data shape: {data.shape}, Output dimensions: {res}\")\n",
    "        \n",
    "        # Now create the output array with proper dimensions\n",
    "        Z = np.zeros((data.shape[0], res[0], res[1], data.shape[2]))\n",
    "        \n",
    "        for epoch in range(data.shape[0]):\n",
    "            for time in range(data.shape[2]):\n",
    "                interp.set_values(data[epoch, :, time])\n",
    "                Zi = interp.set_locations(Xi, Yi)()\n",
    "                Z[epoch, :, :, time] = Zi\n",
    "        return Z"
   ]
  },
  {
   "cell_type": "code",
   "execution_count": 13,
   "id": "17dc7403-a513-4560-9931-8122676ca75b",
   "metadata": {},
   "outputs": [],
   "source": [
    "from mne.channels.layout import _find_topomap_coords\n",
    "from mne.viz.topomap import _adjust_meg_sphere, _GridData\n",
    "\n",
    "class Interpolate(object):\n",
    "    \"\"\"Interpolate a EEG to a matrix of pixels.\n",
    "\n",
    "    Args:\n",
    "        output_size (tuple or int): Desired output size. If tuple, output is\n",
    "            matched to output_size. If int, smaller of image edges is matched\n",
    "            to output_size keeping aspect ratio the same.\n",
    "    \"\"\"\n",
    "\n",
    "    def __init__(self, output_size):\n",
    "        assert isinstance(output_size, (int, tuple))\n",
    "        self.output_size = output_size\n",
    "\n",
    "    def __call__(self, eeg):\n",
    "        sphere, clip_origin = _adjust_meg_sphere(sphere=None, info=eeg.info, ch_type='eeg')\n",
    "        print('sphere')\n",
    "        x, y, _, radius = sphere\n",
    "        picks = pick_types(eeg.info, meg=False, eeg=True, ref_meg=False, exclude='bads')\n",
    "        print('picks')\n",
    "        pos = _find_topomap_coords(eeg.info, picks, sphere=sphere)\n",
    "        mask_scale = max(1.0, np.linalg.norm(pos, axis=1).max() * 1.01 / radius)\n",
    "        clip_radius = (radius * mask_scale,)*2\n",
    "        res = self.output_size\n",
    "        print('res')\n",
    "        image_interp = 'cubic'\n",
    "        xlim = np.inf, -np.inf,\n",
    "        ylim = np.inf, -np.inf,\n",
    "        xmin, xmax = clip_origin[0] - clip_radius[0], clip_origin[0] + clip_radius[0]\n",
    "        ymin, ymax = clip_origin[1] - clip_radius[1], clip_origin[1] + clip_radius[1]\n",
    "        print('ymin')\n",
    "        xi = np.linspace(xmin, xmax, res[0])\n",
    "        yi = np.linspace(ymin, ymax, res[1])\n",
    "        Xi, Yi = np.meshgrid(xi, yi)\n",
    "        extrapolate = 'box'\n",
    "        print('extrapolate')\n",
    "        border = 'mean'\n",
    "        interp = _GridData(pos, image_interp, extrapolate, clip_origin, clip_radius, border)\n",
    "        \n",
    "        print(interp)\n",
    "        extent = (xmin, xmax, ymin, ymax)\n",
    "        print(len(extrapolate))\n",
    "        data = eeg.get_data()\n",
    "        \n",
    "        print('data')\n",
    "        #data = np.mean(data, axis=2)          # shape becomes (epochs, channels)\n",
    "        #data = data[:, :, np.newaxis]\n",
    "        Z=np.zeros((data.shape[0], res[0], res[1], data.shape[2]))\n",
    "\n",
    "        \n",
    "        for epoch in range(data.shape[0]):\n",
    "\n",
    "            for time in range(data.shape[2]):\n",
    "\n",
    "                interp.set_values(data[epoch, picks, time])\n",
    "                Zi = interp.set_locations(Xi, Yi)()\n",
    "                Z[epoch, :, :, time] = Zi\n",
    "\n",
    "        return Z"
   ]
  },
  {
   "cell_type": "code",
   "execution_count": 64,
   "id": "13a64867-c133-47bd-8643-9d65593336cc",
   "metadata": {},
   "outputs": [],
   "source": [
    "picks = pick_types(data.info, meg=False, eeg=True, ref_meg=False, exclude='bads')"
   ]
  },
  {
   "cell_type": "code",
   "execution_count": 66,
   "id": "710cbb61-b9d2-4499-bcac-483f5656d2d3",
   "metadata": {},
   "outputs": [
    {
     "data": {
      "text/plain": [
       "127"
      ]
     },
     "execution_count": 66,
     "metadata": {},
     "output_type": "execute_result"
    }
   ],
   "source": [
    "len(picks)"
   ]
  },
  {
   "cell_type": "code",
   "execution_count": null,
   "id": "0d8df7ce-cd7c-4117-aaa0-1d866fadb179",
   "metadata": {},
   "outputs": [],
   "source": [
    "data = mne.read_epochs('/home/dubadr/scratch/TUEG/process/aaaaabls_s001_t002.edf/RestingState_epo.fif')\n",
    "data_temp = Interpolate((32, 32))(data)"
   ]
  },
  {
   "cell_type": "code",
   "execution_count": 11,
   "id": "7468bab5-d397-4207-8d3f-5d040e323b44",
   "metadata": {},
   "outputs": [
    {
     "data": {
      "text/html": [
       "<table class=\"table table-hover table-striped table-sm table-responsive small\">\n",
       "    <tr>\n",
       "        <th>Number of events</th>\n",
       "        <td>0</td>\n",
       "    </tr>\n",
       "    <tr>\n",
       "        <th>Events</th>\n",
       "        \n",
       "        <td></td>\n",
       "        \n",
       "    </tr>\n",
       "    <tr>\n",
       "        <th>Time range</th>\n",
       "        <td>0.000 – 1.996 s</td>\n",
       "    </tr>\n",
       "    <tr>\n",
       "        <th>Baseline</th>\n",
       "        <td>off</td>\n",
       "    </tr>\n",
       "</table>"
      ],
      "text/plain": [
       "<EpochsFIF |  0 events (all good), 0 – 1.996 s, baseline off, ~33 kB, data loaded>"
      ]
     },
     "execution_count": 11,
     "metadata": {},
     "output_type": "execute_result"
    }
   ],
   "source": [
    "data"
   ]
  },
  {
   "cell_type": "code",
   "execution_count": 16,
   "id": "64f0f946-4afa-43cb-86fc-a9d8a9f882e6",
   "metadata": {},
   "outputs": [
    {
     "data": {
      "text/plain": [
       "(428, 32, 32, 500)"
      ]
     },
     "execution_count": 16,
     "metadata": {},
     "output_type": "execute_result"
    }
   ],
   "source": [
    "data_temp.shape"
   ]
  },
  {
   "cell_type": "code",
   "execution_count": 72,
   "id": "eed4e4fa-855d-4367-bb0b-5b167b2cfb89",
   "metadata": {},
   "outputs": [
    {
     "data": {
      "text/plain": [
       "1024"
      ]
     },
     "execution_count": 72,
     "metadata": {},
     "output_type": "execute_result"
    }
   ],
   "source": [
    "32*32"
   ]
  },
  {
   "cell_type": "code",
   "execution_count": 15,
   "id": "bb3e8b9b-deaf-4b9e-a933-85e790d6028b",
   "metadata": {},
   "outputs": [
    {
     "ename": "AttributeError",
     "evalue": "'numpy.ndarray' object has no attribute 'get_data'",
     "output_type": "error",
     "traceback": [
      "\u001b[0;31m---------------------------------------------------------------------------\u001b[0m",
      "\u001b[0;31mAttributeError\u001b[0m                            Traceback (most recent call last)",
      "Cell \u001b[0;32mIn[15], line 1\u001b[0m\n\u001b[0;32m----> 1\u001b[0m \u001b[43mdata_temp\u001b[49m\u001b[38;5;241;43m.\u001b[39;49m\u001b[43mget_data\u001b[49m()\u001b[38;5;241m.\u001b[39mshape\n",
      "\u001b[0;31mAttributeError\u001b[0m: 'numpy.ndarray' object has no attribute 'get_data'"
     ]
    }
   ],
   "source": [
    "data_temp.get_data().shape"
   ]
  },
  {
   "cell_type": "code",
   "execution_count": 63,
   "id": "95e8517d-54e7-4223-afd8-eee9bd75863e",
   "metadata": {},
   "outputs": [
    {
     "data": {
      "text/plain": [
       "(56, 128, 1001)"
      ]
     },
     "execution_count": 63,
     "metadata": {},
     "output_type": "execute_result"
    }
   ],
   "source": [
    "data.get_data().shape"
   ]
  },
  {
   "cell_type": "code",
   "execution_count": null,
   "id": "39562689-0bc1-4a1e-9286-0ea5333712c5",
   "metadata": {},
   "outputs": [],
   "source": []
  },
  {
   "cell_type": "code",
   "execution_count": 41,
   "id": "ed2ef904-e6b2-44f1-8c1a-8d43e9bdc22e",
   "metadata": {},
   "outputs": [],
   "source": [
    "import h5py\n",
    "import numpy as np\n",
    "\n",
    "data = np.random.rand(10, 20, 30)  # example array\n",
    "\n",
    "with h5py.File('my_data.h5', 'w') as f:\n",
    "    f.create_dataset('my_array', data=data)"
   ]
  },
  {
   "cell_type": "code",
   "execution_count": 18,
   "id": "5f007871-c862-43cd-85f3-5934f1bfc74b",
   "metadata": {},
   "outputs": [],
   "source": [
    "def main(database,data_folder,participant, output_folder,output_file,demo_file, reconstruction=False):\n",
    "    try:\n",
    "        logging.info('Attempting to get signal')\n",
    "        if reconstruction:\n",
    "            data_type=\"labels.fif\"\n",
    "            \n",
    "        else:\n",
    "            data_type='RestingState_epo.fif'\n",
    "\n",
    "        if database == 'HBN':\n",
    "            participant_id = participant\n",
    "            participant_file = os.path.join(data_folder,participant,data_type)\n",
    "\n",
    "            epochs = mne.read_epochs(participant_file,preload=True)\n",
    "            \n",
    "        if database =='BCAN':\n",
    "            if reconstruction:\n",
    "                demo = pd.read_csv(demo_file)\n",
    "                basename = os.path.basename(os.path.normpath(participant))\n",
    "                participant_id = basename.split('_', 1)[1] if '_' in basename else basename\n",
    "                index_participant = demo[demo['Participant code'] == participant_id].index\n",
    "                Record_id = demo.iloc[index_participant[0]]['Record ID']\n",
    "                Participant_code = demo.iloc[index_participant[0]]['Participant code']\n",
    "                participant_file = os.path.join(data_folder,str(Record_id)+'_'+str(Participant_code),data_type)\n",
    "                participant_id=basename\n",
    "            else:\n",
    "                demo = pd.read_csv(demo_file)\n",
    "                basename = os.path.basename(os.path.normpath(participant))\n",
    "                participant_id = basename.split('_', 1)[1] if '_' in basename else basename\n",
    "                index_participant = demo[demo['Participant code'] == participant_id].index\n",
    "                Record_id = demo.iloc[index_participant[0]]['Record ID']\n",
    "                Participant_code = demo.iloc[index_participant[0]]['Participant code']\n",
    "                participant_file = os.path.join(data_folder,str(Record_id)+'_'+str(Participant_code),data_type)\n",
    "                participant_id=basename\n",
    "\n",
    "        if database =='VIP':\n",
    "            participant_id = participant.split('.')[0]\n",
    "            participant_file = os.path.join(data_folder,participant_id,data_type)\n",
    "\n",
    "        if database =='RDB':\n",
    "            participant_id = participant[:-7] \n",
    "            participant_file = os.path.join(data_folder,participant,data_type)\n",
    "\n",
    "        if database == 'ABCCT':\n",
    "            participant_id = os.path.basename(participant)\n",
    "            participant_file = os.path.join(data_folder,participant,data_type)\n",
    "\n",
    "        if database == 'XFRAGILE':\n",
    "            participant_id = os.path.basename(participant)\n",
    "            participant_file = os.path.join(data_folder,participant,data_type)\n",
    "\n",
    "            participant_id = os.path.basename(participant)\n",
    "            participant_file = os.path.join(data_folder,participant,data_type)\n",
    "            epochs = mne.read_epochs(participant_file,preload=True)\n",
    "\n",
    "        if database == 'NED':\n",
    "            participant_id = os.path.basename(participant)\n",
    "            participant_file = os.path.join(data_folder,participant,data_type)\n",
    "        if database == 'HSJ':\n",
    "            participant_id = os.path.basename(participant)\n",
    "            participant_file = os.path.join(data_folder,participant,data_type)\n",
    "\n",
    "        if database == 'TUEG':\n",
    "            participant_id = os.path.basename(participant)\n",
    "            participant_file = os.path.join(data_folder,participant,data_type)\n",
    "\n",
    "\n",
    "        with warnings.catch_warnings():\n",
    "            warnings.filterwarnings(\"ignore\", message=\"This filename (.*) does not conform to MNE naming conventions\")\n",
    "            epochs = mne.read_epochs(participant_file,preload=True)\n",
    "\n",
    "        epochs.resample(500)\n",
    "        df_demo = get_demo(database,data_folder,participant,demo_file)\n",
    "\n",
    "        print('ch names')\n",
    "    \n",
    "        ch_names = epochs.info['ch_names']\n",
    "\n",
    "        # Interpolate EEG\n",
    "        data_temp = Interpolate((32, 32))(epochs)\n",
    "\n",
    "        # Path to save\n",
    "        h5_path = os.path.join(output_folder, participant_id + '.h5')\n",
    "\n",
    "        # Save to HDF5\n",
    "        with h5py.File(h5_path, 'w') as f:\n",
    "            # Save EEG array\n",
    "            f.create_dataset('power_data', data=data_temp, compression=\"gzip\")\n",
    "\n",
    "            # Save demographics as a group of attributes (one key per column)\n",
    "            demo_group = f.create_group('demographics')\n",
    "            for key, value in df_demo.iloc[0].items():  # assumes 1-row per participant\n",
    "                demo_group.attrs[key] = value\n",
    "\n",
    "\n",
    "\n",
    "\n",
    "    except Exception as e:\n",
    "        # Print and log the full traceback, then re-raise the exception\n",
    "        traceback.print_exc()\n",
    "        logging.error(\"Exception occurred:\\n\" + traceback.format_exc())\n",
    "        raise\n",
    "    return True\n",
    "\n",
    "class Interpolate(object):\n",
    "    \"\"\"Interpolate a EEG to a matrix of pixels.\n",
    "\n",
    "    Args:\n",
    "        output_size (tuple or int): Desired output size. If tuple, output is\n",
    "            matched to output_size. If int, smaller of image edges is matched\n",
    "            to output_size keeping aspect ratio the same.\n",
    "    \"\"\"\n",
    "\n",
    "    def __init__(self, output_size):\n",
    "        assert isinstance(output_size, (int, tuple))\n",
    "        self.output_size = output_size\n",
    "\n",
    "    def __call__(self, eeg):\n",
    "        sphere, clip_origin = _adjust_meg_sphere(sphere=None, info=eeg.info, ch_type='eeg')\n",
    "        print('sphere')\n",
    "        x, y, _, radius = sphere\n",
    "        picks = pick_types(eeg.info, meg=False, eeg=True, ref_meg=False, exclude='bads')\n",
    "        print('picks')\n",
    "        pos = _find_topomap_coords(eeg.info, picks, sphere=sphere)\n",
    "        mask_scale = max(1.0, np.linalg.norm(pos, axis=1).max() * 1.01 / radius)\n",
    "        clip_radius = (radius * mask_scale,)*2\n",
    "        res = self.output_size\n",
    "        print('res')\n",
    "        image_interp = 'cubic'\n",
    "        xlim = np.inf, -np.inf,\n",
    "        ylim = np.inf, -np.inf,\n",
    "        xmin, xmax = clip_origin[0] - clip_radius[0], clip_origin[0] + clip_radius[0]\n",
    "        ymin, ymax = clip_origin[1] - clip_radius[1], clip_origin[1] + clip_radius[1]\n",
    "        print('ymin')\n",
    "        xi = np.linspace(xmin, xmax, res[0])\n",
    "        yi = np.linspace(ymin, ymax, res[1])\n",
    "        Xi, Yi = np.meshgrid(xi, yi)\n",
    "        extrapolate = 'box'\n",
    "        print('extrapolate')\n",
    "        border = 'mean'\n",
    "        interp = _GridData(pos, image_interp, extrapolate,\n",
    "                           clip_origin, clip_radius, border)\n",
    "        extent = (xmin, xmax, ymin, ymax)\n",
    "        data = eeg.get_data()\n",
    "        print('data')\n",
    "        #data = np.mean(data, axis=2)          # shape becomes (epochs, channels)\n",
    "        #data = data[:, :, np.newaxis]\n",
    "        Z=np.zeros((data.shape[0], res[0], res[1], data.shape[2]))\n",
    "        print('Z')\n",
    "        \n",
    "        for epoch in range(data.shape[0]):\n",
    "            for time in range(data.shape[2]):\n",
    "                interp.set_values(data[epoch, picks, time])\n",
    "                Zi = interp.set_locations(Xi, Yi)()\n",
    "                Z[epoch, :, :, time] = Zi\n",
    "\n",
    "        return Z"
   ]
  },
  {
   "cell_type": "code",
   "execution_count": 27,
   "id": "c0ed4821-efc8-4a61-a357-724bf0a3b4fd",
   "metadata": {},
   "outputs": [],
   "source": [
    "from mne.channels.layout import _find_topomap_coords\n",
    "from mne.viz.topomap import _adjust_meg_sphere, _GridData\n",
    "\n",
    "import sys\n",
    "import argparse\n",
    "import logging\n",
    "# Import core libraries\n",
    "import time\n",
    "import os\n",
    "import os.path as op\n",
    "import itertools\n",
    "from datetime import datetime\n",
    "\n",
    "# Import scientic Python librairies\n",
    "import pandas as pd\n",
    "import numpy as np\n",
    "import json\n",
    "# Import MNE ecosystem\n",
    "import mne\n",
    "from mne.channels import make_standard_montage\n",
    "from mne.datasets import fetch_fsaverage\n",
    "from mne.minimum_norm import make_inverse_operator, apply_inverse_epochs\n",
    "from mne.datasets import eegbci\n",
    "# from mne.time_frequency import psd_welch\n",
    "from mne.io.pick import pick_types\n",
    "from mne.viz.topomap import _adjust_meg_sphere, _GridData\n",
    "\n",
    "from demo import get_demo\n",
    "import warnings\n",
    "import h5py\n",
    "\n",
    "\n",
    "\n",
    "egi = mne.channels.make_standard_montage('GSN-HydroCel-128')\n",
    "\n",
    "logging.basicConfig(filename='omneeg.log', filemode='w', format='%(asctime)s - %(name)s - %(levelname)s - %(message)s', level=logging.DEBUG)\n",
    "\n",
    "import traceback\n",
    "\n",
    "def handle_exception(exc_type, exc_value, exc_traceback):\n",
    "    if issubclass(exc_type, KeyboardInterrupt):\n",
    "        sys.__excepthook__(exc_type, exc_value, exc_traceback)\n",
    "        return\n",
    "    error_message = f\"Uncaught exception: {exc_value}\"\n",
    "    print(error_message)\n",
    "    logging.error(error_message)\n",
    "    traceback_str = \"\".join(traceback.format_tb(exc_traceback))\n",
    "    print(traceback_str)\n",
    "    logging.error(traceback_str)\n",
    "\n",
    "\n",
    "def trace_calls(frame, event, arg):\n",
    "    if event != 'call':\n",
    "        return\n",
    "    co = frame.f_code\n",
    "    func_name = co.co_name\n",
    "    line_no = frame.f_lineno\n",
    "    filename = co.co_filename\n",
    "    print(f\"Calling {func_name} in {filename} at line {line_no}\")\n",
    "    return trace_lines\n",
    "\n",
    "def trace_lines(frame, event, arg):\n",
    "    if event != 'line':\n",
    "        return\n",
    "    co = frame.f_code\n",
    "    line_no = frame.f_lineno\n",
    "    filename = co.co_filename\n",
    "    print(f\"Executing line {line_no} in {filename}\")\n",
    "    return trace_lines\n",
    "\n",
    "#sys.settrace(trace_calls)\n",
    "\n",
    "sys.excepthook = handle_exception"
   ]
  },
  {
   "cell_type": "code",
   "execution_count": 25,
   "id": "90f3377b-1a42-4f6f-9262-003c6a9caab3",
   "metadata": {},
   "outputs": [
    {
     "name": "stdout",
     "output_type": "stream",
     "text": [
      "/lustre06/project/6057506/dubadr/deephy/libs/Markers\n"
     ]
    }
   ],
   "source": [
    "cd /home/dubadr/projects/def-gdumas85/dubadr/deephy/libs/Markers"
   ]
  },
  {
   "cell_type": "code",
   "execution_count": 28,
   "id": "3470ad40-59e3-496e-82e9-f453bcb52031",
   "metadata": {},
   "outputs": [
    {
     "name": "stdout",
     "output_type": "stream",
     "text": [
      "Unknown database.\n",
      "ch names\n",
      "sphere\n",
      "picks\n",
      "res\n",
      "ymin\n",
      "extrapolate\n",
      "data\n",
      "Z\n"
     ]
    },
    {
     "name": "stderr",
     "output_type": "stream",
     "text": [
      "/lustre06/project/6057506/dubadr/deephy/libs/Markers/demo.py:456: FutureWarning: Setting an item of incompatible dtype is deprecated and will raise in a future error of pandas. Value 'unknown' has dtype incompatible with float64, please explicitly cast to a compatible dtype first.\n",
      "  df_demo.fillna('unknown', inplace=True)\n"
     ]
    },
    {
     "data": {
      "text/plain": [
       "True"
      ]
     },
     "execution_count": 28,
     "metadata": {},
     "output_type": "execute_result"
    }
   ],
   "source": [
    "database='TUEG'\n",
    "data_folder='/home/dubadr/projects/def-gdumas85/tmp/TUEG/process'\n",
    "participant='aaaaadkm_s003_t001.edf'\n",
    "output_folder='/home/dubadr/projects/def-gdumas85/tmp/TUEG/omneeg'\n",
    "output_file='/home/dubadr/projects/def-gdumas85/tmp/TUEG/omneeg/aaaaadkm_s003_t001.h5'\n",
    "demo_file='/home/dubadr/projects/def-gdumas85/dubadr/deephy/datasets/HBN/data/hbn_demo_cat.csv'\n",
    "\n",
    "main(database,data_folder,participant, output_folder,output_file,demo_file, reconstruction=False)"
   ]
  },
  {
   "cell_type": "code",
   "execution_count": null,
   "id": "f8d0508f-4c81-449c-b830-9e00785e8773",
   "metadata": {},
   "outputs": [],
   "source": []
  },
  {
   "cell_type": "code",
   "execution_count": null,
   "id": "b2f59d2d-7878-4e5a-b788-bcb1bd236beb",
   "metadata": {},
   "outputs": [],
   "source": []
  }
 ],
 "metadata": {
  "kernelspec": {
   "display_name": "Python (ratio)",
   "language": "python",
   "name": "ratio"
  },
  "language_info": {
   "codemirror_mode": {
    "name": "ipython",
    "version": 3
   },
   "file_extension": ".py",
   "mimetype": "text/x-python",
   "name": "python",
   "nbconvert_exporter": "python",
   "pygments_lexer": "ipython3",
   "version": "3.11.5"
  }
 },
 "nbformat": 4,
 "nbformat_minor": 5
}
